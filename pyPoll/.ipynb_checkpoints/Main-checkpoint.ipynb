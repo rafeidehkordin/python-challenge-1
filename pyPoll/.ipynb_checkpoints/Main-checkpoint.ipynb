{
 "cells": [
  {
   "cell_type": "code",
   "execution_count": 64,
   "metadata": {},
   "outputs": [],
   "source": [
    "# Modules\n",
    "import os\n",
    "import csv"
   ]
  },
  {
   "cell_type": "code",
   "execution_count": 65,
   "metadata": {},
   "outputs": [],
   "source": [
    "# Define variables\n",
    "\n",
    "# Define output variables\n",
    "vote_count = 0\n",
    "candidates =[]\n",
    "vote_stats={}\n",
    "winner=\"\"\n",
    "output_text=\"\"\n",
    "\n",
    "# Define analysis variables\n",
    "unique_candidates =set()\n",
    "max_vote = 0\n",
    "percentage =0"
   ]
  },
  {
   "cell_type": "code",
   "execution_count": 66,
   "metadata": {},
   "outputs": [],
   "source": [
    "# Set path for file\n",
    "csvpath = os.path.join(\"..\", \"Resources\", \"PyPoll_Resources_election_data.csv\")"
   ]
  },
  {
   "cell_type": "code",
   "execution_count": 67,
   "metadata": {},
   "outputs": [],
   "source": [
    "# Open the CSV\n",
    "with open(csvpath) as csvfile:\n",
    "    csvreader = csv.reader(csvfile, delimiter=\",\")\n",
    "    next(csvreader, None)\n",
    "\n",
    "    #Iterate through csv records to retrive the votes.\n",
    "    for row in csvreader:\n",
    "        \n",
    "        candidates.append(row[2])\n",
    "\n"
   ]
  },
  {
   "cell_type": "code",
   "execution_count": 89,
   "metadata": {},
   "outputs": [
    {
     "name": "stdout",
     "output_type": "stream",
     "text": [
      "14\n",
      "20\n",
      "63\n",
      "3\n",
      "{'Li': [492940, '14'], 'Correy': [704200, '20'], 'Khan': [2218231, '63'], \"O'Tooley\": [105630, '3']}\n"
     ]
    }
   ],
   "source": [
    "#The total number of votes cast\n",
    "vote_count =len(candidates)   \n",
    "\n",
    "\n",
    "#A complete list of candidates who received votes\n",
    "unique_candidates= set(candidates)\n",
    "\n",
    "#Generate vote stats dictionary as {'candidate name': [total_votes,vote_percentage]}\n",
    "vote_stats = {element:[0,0] for element in unique_candidates}\n",
    "\n",
    "   \n",
    "#The total number of votes each candidate won\n",
    "for item in candidates:\n",
    "    vote_stats[item][0] += 1\n",
    "\n",
    "\n",
    "#The percentage of votes each candidate won\n",
    "for items in vote_stats.values():\n",
    "    \n",
    "    percentage = items[0]/vote_count*100\n",
    "    items[1]=\"{0:0.4g}\".format(percentage)\n",
    "    print(items[1])\n",
    "\n",
    "    \n",
    "print(vote_stats)\n",
    "\n",
    "#The winner of the election based on popular vote.\n",
    "for key, value in vote_stats.items():\n",
    "    \n",
    "    if max_vote<value[0]:\n",
    "        winner = key\n",
    "        max_vote =value[0]\n",
    "        "
   ]
  },
  {
   "cell_type": "code",
   "execution_count": 90,
   "metadata": {},
   "outputs": [],
   "source": [
    "output_text = \"Election Results\\n\"\n",
    "output_text += 40 * \"-\" + \"\\n\"\n",
    "output_text += f'Total Votes: {vote_count} \\n'\n",
    "output_text +=40 * \"-\" + \"\\n\"\n",
    "\n",
    "for key, value in vote_stats.items():\n",
    "    \n",
    "    output_text += f'{key}: {value[1]}% ({value[0]})\\n'\n",
    "\n",
    "output_text +=40 * \"-\" + \"\\n\"\n",
    "\n",
    "output_text += f'Winner: {winner}\\n'\n",
    "output_text +=40 * \"-\" + \"\\n\""
   ]
  },
  {
   "cell_type": "code",
   "execution_count": 91,
   "metadata": {},
   "outputs": [],
   "source": [
    "#Write output resluts into an output file\n",
    "\n",
    "output_path = os.path.join(\"..\",\"output\" ,\"polls.txt\")\n",
    "\n",
    "with open(output_path, 'w') as myfile:\n",
    "    \n",
    "    myfile.write(output_text)\n",
    "    "
   ]
  },
  {
   "cell_type": "code",
   "execution_count": 92,
   "metadata": {},
   "outputs": [
    {
     "name": "stdout",
     "output_type": "stream",
     "text": [
      "Election Results\n",
      "----------------------------------------\n",
      "Total Votes: 3521001 \n",
      "----------------------------------------\n",
      "Li: 14% (492940)\n",
      "Correy: 20% (704200)\n",
      "Khan: 63% (2218231)\n",
      "O'Tooley: 3% (105630)\n",
      "----------------------------------------\n",
      "Winner: Khan\n",
      "----------------------------------------\n",
      "\n"
     ]
    }
   ],
   "source": [
    "#Print results to terminal\n",
    "\n",
    "print(output_text)"
   ]
  },
  {
   "cell_type": "code",
   "execution_count": null,
   "metadata": {},
   "outputs": [],
   "source": []
  },
  {
   "cell_type": "code",
   "execution_count": null,
   "metadata": {},
   "outputs": [],
   "source": []
  }
 ],
 "metadata": {
  "kernelspec": {
   "display_name": "Python 3",
   "language": "python",
   "name": "python3"
  },
  "language_info": {
   "codemirror_mode": {
    "name": "ipython",
    "version": 3
   },
   "file_extension": ".py",
   "mimetype": "text/x-python",
   "name": "python",
   "nbconvert_exporter": "python",
   "pygments_lexer": "ipython3",
   "version": "3.7.6"
  }
 },
 "nbformat": 4,
 "nbformat_minor": 4
}
