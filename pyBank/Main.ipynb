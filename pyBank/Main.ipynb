{
 "cells": [
  {
   "cell_type": "code",
   "execution_count": 140,
   "metadata": {},
   "outputs": [],
   "source": [
    "# Modules\n",
    "import os\n",
    "import csv"
   ]
  },
  {
   "cell_type": "code",
   "execution_count": 141,
   "metadata": {},
   "outputs": [],
   "source": [
    "# Define variables\n",
    "\n",
    "# Define output variables\n",
    "row_count = 0\n",
    "avg_change = 0\n",
    "max_increase = 0\n",
    "max_decrease = 0\n",
    "max_month = \"\"\n",
    "min_month = \"\"\n",
    "output_text =\"\"\n",
    "\n",
    "# Define analysis variables\n",
    "\n",
    "net_pl = 0\n",
    "my_pl = 0\n",
    "last_pl = 0\n",
    "my_change = 0\n",
    "sum_change = 0\n",
    "sum_pl = 0\n",
    "is_first_row = True"
   ]
  },
  {
   "cell_type": "code",
   "execution_count": 142,
   "metadata": {},
   "outputs": [],
   "source": [
    "# Set path for file\n",
    "csvpath = os.path.join(\"..\", \"Resources\", \"PyBank_Resources_budget_data.csv\")\n"
   ]
  },
  {
   "cell_type": "code",
   "execution_count": 143,
   "metadata": {},
   "outputs": [],
   "source": [
    "# Open the CSV\n",
    "with open(csvpath) as csvfile:\n",
    "    csvreader = csv.reader(csvfile, delimiter=\",\")\n",
    "    next(csvreader, None)\n",
    "\n",
    "#Iterate through csv records to calculate/retrive the desired values.   \n",
    "  \n",
    "    for row in csvreader:\n",
    "       \n",
    "        my_pl =float(row[1]) \n",
    "        my_month =str(row[0])\n",
    "        \n",
    "        #To skip the first row when calculating the monthly profit/loss changes.\n",
    "        if is_first_row == False:\n",
    "            \n",
    "            my_change = (my_pl-last_pl)\n",
    "            \n",
    "        else:\n",
    "            \n",
    "            is_first_row = False\n",
    "            \n",
    "    \n",
    "        #The total number of months included in the dataset\n",
    "        row_count += 1\n",
    "        \n",
    "\n",
    "        #The net total amount of \"Profit/Losses\" over the entire period\n",
    "        net_pl += my_pl       \n",
    "        \n",
    "        \n",
    "        #The sum of the changes in \"Profit/Losses\" over the entire period \n",
    "        sum_change += my_change\n",
    "        \n",
    "\n",
    "        #The greatest increase in profits (date and amount) over the entire period\n",
    "        if my_change > max_increase:\n",
    "            max_increase = my_change\n",
    "            max_month = my_month\n",
    "\n",
    "\n",
    "        #The greatest decrease in losses (date and amount) over the entire period\n",
    "        if my_change < max_decrease:\n",
    "            max_decrease = my_change\n",
    "            min_month = my_month\n",
    "            \n",
    "        last_pl = my_pl\n",
    "            \n",
    "#The average of the changes in \"Profit/Losses\" over the entire period \n",
    "avg_change = round(sum_change/(row_count-1),2)\n",
    "        "
   ]
  },
  {
   "cell_type": "code",
   "execution_count": 144,
   "metadata": {},
   "outputs": [],
   "source": [
    "#Generate output text\n",
    "\n",
    "output_text = \"Financial Analysis\\n\"\n",
    "output_text += 50 * \"-\" + \"\\n\"\n",
    "output_text +=f'Total months: {row_count}\\n'\n",
    "output_text +=f'Total: {net_pl}\\nAverage Change: ${round(avg_change,2)}\\n'\n",
    "output_text +=f'Greatest Increase in Profits: {max_month} (${round(max_increase,2)})\\n'\n",
    "output_text +=f'Greatest Decrease in Profits: {min_month} (${round(max_decrease,2)})'"
   ]
  },
  {
   "cell_type": "code",
   "execution_count": 145,
   "metadata": {},
   "outputs": [],
   "source": [
    "#Write output resluts into an output file\n",
    "\n",
    "output_path = os.path.join(\"..\",\"output\" ,\"bank.txt\")\n",
    "\n",
    "with open(output_path, 'w') as myfile:\n",
    "    \n",
    "    myfile.write(output_text)"
   ]
  },
  {
   "cell_type": "code",
   "execution_count": 146,
   "metadata": {},
   "outputs": [
    {
     "name": "stdout",
     "output_type": "stream",
     "text": [
      "Financial Analysis\n",
      "--------------------------------------------------\n",
      "Total months: 86\n",
      "Total: 38382578.0\n",
      "Average Change: $-2315.12\n",
      "Greatest Increase in Profits: Feb-12 ($1926159.0)\n",
      "Greatest Decrease in Profits: Sep-13 ($-2196167.0)\n"
     ]
    }
   ],
   "source": [
    "#Print results to terminal\n",
    "\n",
    "print(output_text)\n",
    "    "
   ]
  },
  {
   "cell_type": "code",
   "execution_count": null,
   "metadata": {},
   "outputs": [],
   "source": []
  }
 ],
 "metadata": {
  "kernelspec": {
   "display_name": "Python 3",
   "language": "python",
   "name": "python3"
  },
  "language_info": {
   "codemirror_mode": {
    "name": "ipython",
    "version": 3
   },
   "file_extension": ".py",
   "mimetype": "text/x-python",
   "name": "python",
   "nbconvert_exporter": "python",
   "pygments_lexer": "ipython3",
   "version": "3.7.6"
  }
 },
 "nbformat": 4,
 "nbformat_minor": 4
}
